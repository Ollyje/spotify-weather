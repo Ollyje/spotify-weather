{
 "cells": [
  {
   "cell_type": "code",
   "execution_count": 1,
   "id": "c1e61553-ee97-4fb2-94cf-a02313bc4cce",
   "metadata": {},
   "outputs": [],
   "source": [
    "import spotipy\n",
    "import json\n",
    "import webbrowser\n",
    "import urllib.request\n",
    "import spotipy.util as util"
   ]
  },
  {
   "cell_type": "code",
   "execution_count": 4,
   "id": "20a03359-f8e4-4aa4-b145-fd339f6eb458",
   "metadata": {},
   "outputs": [],
   "source": [
    "with open('weather_key.txt', 'r') as weather_file:\n",
    "    weather_key = weather_file.read()"
   ]
  },
  {
   "cell_type": "code",
   "execution_count": 6,
   "id": "3f00e514-1697-435b-a50a-7d1e61987e80",
   "metadata": {},
   "outputs": [],
   "source": [
    "url = f\"http://api.weatherapi.com/v1/current.json?key={weather_key}&q=London&aqi=no\""
   ]
  },
  {
   "cell_type": "code",
   "execution_count": 10,
   "id": "548af49a-c137-4e36-9713-8ecf2af5a86b",
   "metadata": {},
   "outputs": [],
   "source": [
    "request = urllib.request.Request(url)\n",
    "response = urllib.request.urlopen(request)"
   ]
  },
  {
   "cell_type": "code",
   "execution_count": 11,
   "id": "e786cf2b-fbd2-4dd2-9454-07ff5610fe01",
   "metadata": {},
   "outputs": [
    {
     "name": "stdout",
     "output_type": "stream",
     "text": [
      "<http.client.HTTPResponse object at 0x00000174CC5F6920>\n"
     ]
    }
   ],
   "source": [
    "print(response)"
   ]
  },
  {
   "cell_type": "code",
   "execution_count": 12,
   "id": "a03282bb-8bbd-4d2f-aa18-384cd49c674f",
   "metadata": {},
   "outputs": [
    {
     "name": "stdout",
     "output_type": "stream",
     "text": [
      "{'location': {'name': 'London', 'region': 'City of London, Greater London', 'country': 'United Kingdom', 'lat': 51.5171, 'lon': -0.1062, 'tz_id': 'Europe/London', 'localtime_epoch': 1730215372, 'localtime': '2024-10-29 15:22'}, 'current': {'last_updated_epoch': 1730214900, 'last_updated': '2024-10-29 15:15', 'temp_c': 15.1, 'temp_f': 59.2, 'is_day': 1, 'condition': {'text': 'Overcast', 'icon': '//cdn.weatherapi.com/weather/64x64/day/122.png', 'code': 1009}, 'wind_mph': 3.1, 'wind_kph': 5.0, 'wind_degree': 259, 'wind_dir': 'W', 'pressure_mb': 1024.0, 'pressure_in': 30.24, 'precip_mm': 0.0, 'precip_in': 0.0, 'humidity': 82, 'cloud': 50, 'feelslike_c': 15.1, 'feelslike_f': 59.2, 'windchill_c': 15.1, 'windchill_f': 59.1, 'heatindex_c': 14.7, 'heatindex_f': 58.4, 'dewpoint_c': 10.0, 'dewpoint_f': 50.0, 'vis_km': 10.0, 'vis_miles': 6.0, 'uv': 0.5, 'gust_mph': 4.9, 'gust_kph': 8.0}}\n"
     ]
    }
   ],
   "source": [
    "weather_json = json.loads(response.read())\n",
    "print(weather_json)"
   ]
  },
  {
   "cell_type": "code",
   "execution_count": 13,
   "id": "14ad51e7-8fe4-4d32-99ea-ab26588007ac",
   "metadata": {},
   "outputs": [
    {
     "name": "stdout",
     "output_type": "stream",
     "text": [
      "Overcast\n"
     ]
    }
   ],
   "source": [
    "forecast = weather_json['current']['condition']['text']\n",
    "print(forecast)"
   ]
  },
  {
   "cell_type": "code",
   "execution_count": null,
   "id": "1ffe72ac-72e4-4c54-9a44-7f13e9d09952",
   "metadata": {},
   "outputs": [],
   "source": []
  }
 ],
 "metadata": {
  "kernelspec": {
   "display_name": "Python 3 (ipykernel)",
   "language": "python",
   "name": "python3"
  },
  "language_info": {
   "codemirror_mode": {
    "name": "ipython",
    "version": 3
   },
   "file_extension": ".py",
   "mimetype": "text/x-python",
   "name": "python",
   "nbconvert_exporter": "python",
   "pygments_lexer": "ipython3",
   "version": "3.12.7"
  }
 },
 "nbformat": 4,
 "nbformat_minor": 5
}
